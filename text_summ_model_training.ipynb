{
  "nbformat": 4,
  "nbformat_minor": 0,
  "metadata": {
    "colab": {
      "provenance": [],
      "gpuType": "T4",
      "include_colab_link": true
    },
    "kernelspec": {
      "name": "python3",
      "display_name": "Python 3"
    },
    "language_info": {
      "name": "python"
    },
    "accelerator": "GPU"
  },
  "cells": [
    {
      "cell_type": "markdown",
      "metadata": {
        "id": "view-in-github",
        "colab_type": "text"
      },
      "source": [
        "<a href=\"https://colab.research.google.com/github/RamonSaturninoM/MedicalTextSummarization/blob/main/text_summ_model_training.ipynb\" target=\"_parent\"><img src=\"https://colab.research.google.com/assets/colab-badge.svg\" alt=\"Open In Colab\"/></a>"
      ]
    },
    {
      "cell_type": "code",
      "source": [
        "from datasets import load_dataset\n",
        "\n",
        "# Load the test split from Hugging Face\n",
        "dataset = load_dataset(\"ccdv/pubmed-summarization\")\n",
        "\n",
        "# ✅ Function to clean and load into a list of (article, abstract) tuples\n",
        "def clean_pubmed_dataset(dataset, limit=None):\n",
        "    data = []\n",
        "    for i, row in enumerate(dataset):\n",
        "        if row['article'] and row['abstract']:\n",
        "            article = row['article'].strip().replace('\\n', ' ')\n",
        "            abstract = row['abstract'].strip().replace('\\n', ' ')\n",
        "            data.append((article, abstract))\n",
        "        if limit and len(data) >= limit:\n",
        "            break\n",
        "    return data\n",
        "\n",
        "# ✅ Load and clean each split\n",
        "train_data = clean_pubmed_dataset(dataset['train'], limit=None)\n",
        "val_data = clean_pubmed_dataset(dataset['validation'], limit=None)\n",
        "test_data = clean_pubmed_dataset(dataset['test'], limit=None)\n",
        "\n",
        "# ✅ Combine all if needed\n",
        "pubmed_data = train_data + val_data + test_data\n",
        "\n",
        "# ✅ Confirm\n",
        "print(f\"Train Samples: {len(train_data)}\")\n",
        "print(f\"Validation Samples: {len(val_data)}\")\n",
        "print(f\"Test Samples: {len(test_data)}\")\n",
        "print(f\"Total Combined Samples: {len(pubmed_data)}\")\n",
        "\n",
        "# ✅ Preview a sample\n",
        "print(\"\\nSample Article (input):\")\n",
        "print(pubmed_data[0][0][:500])\n",
        "\n",
        "print(\"\\nSample Abstract (target):\")\n",
        "print(pubmed_data[0][1][:300])\n"
      ],
      "metadata": {
        "id": "7uA0ENeQi0gH",
        "outputId": "051fad68-eb23-47ca-9468-5aafc7dea5b5",
        "colab": {
          "base_uri": "https://localhost:8080/"
        }
      },
      "execution_count": 5,
      "outputs": [
        {
          "output_type": "stream",
          "name": "stdout",
          "text": [
            "Train Samples: 117232\n",
            "Validation Samples: 6633\n",
            "Test Samples: 6658\n",
            "Total Combined Samples: 130523\n",
            "\n",
            "Sample Article (input):\n",
            "a recent systematic analysis showed that in 2011 , 314 ( 296 - 331 ) million children younger than 5 years were mildly , moderately or severely stunted and 258 ( 240 - 274 ) million were mildly , moderately or severely underweight in the developing countries .   in iran a study among 752 high school girls in sistan and baluchestan showed prevalence of 16.2% , 8.6% and 1.5% , for underweight , overweight and obesity , respectively .   the prevalence of malnutrition among elementary school aged ch\n",
            "\n",
            "Sample Abstract (target):\n",
            "background : the present study was carried out to assess the effects of community nutrition intervention based on advocacy approach on malnutrition status among school - aged children in shiraz , iran.materials and methods : this case - control nutritional intervention has been done between 2008 and\n"
          ]
        }
      ]
    }
  ]
}